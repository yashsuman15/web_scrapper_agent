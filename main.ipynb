{
 "cells": [
  {
   "cell_type": "markdown",
   "id": "65085d19",
   "metadata": {},
   "source": [
    "[![Labellerr](https://storage.googleapis.com/labellerr-cdn/%200%20Labellerr%20template/notebook.webp)](https://www.labellerr.com)\n",
    "\n",
    "# **Web Research Agent**\n",
    "\n",
    "---\n",
    "\n",
    "[![labellerr](https://img.shields.io/badge/Labellerr-BLOG-black.svg)](https://www.labellerr.com/blog/<BLOG_NAME>)\n",
    "[![Youtube](https://img.shields.io/badge/Labellerr-YouTube-b31b1b.svg)](https://www.youtube.com/@Labellerr)\n",
    "[![Github](https://img.shields.io/badge/Labellerr-GitHub-green.svg)](https://github.com/Labellerr/Hands-On-Learning-in-Computer-Vision)"
   ]
  },
  {
   "cell_type": "markdown",
   "id": "45d15e2c",
   "metadata": {},
   "source": [
    "This notebook demonstrates how to create an intelligent web scraping and summarization system using CrewAI, which combines multiple AI agents to perform complex tasks. The system will search for and summarize information on any given topic.\n",
    "\n",
    "## Step 1: Install Required Dependencies\n",
    "The first cell installs the necessary Python packages:\n",
    "- crewai: For creating and managing AI agents\n",
    "- crewai[tools]: Additional tools for CrewAI\n",
    "- google-generativeai: Google's Gemini API\n",
    "- python-dotenv: For managing environment variables"
   ]
  },
  {
   "cell_type": "code",
   "execution_count": null,
   "id": "aa1bb698",
   "metadata": {},
   "outputs": [],
   "source": [
    "# !pip install crewai \"crewai[tools]\" google-generativeai python-dotenv"
   ]
  },
  {
   "cell_type": "markdown",
   "id": "64c374da",
   "metadata": {},
   "source": [
    "## Step 2: Import Libraries and Load Environment Variables\n",
    "\n",
    "This cell:\n",
    "1. Imports required Python libraries\n",
    "2. Uses dotenv to load environment variables from a .env file\n",
    "3. Verifies that the necessary API keys (GEMINI_API_KEY and SERPER_API_KEY) are available"
   ]
  },
  {
   "cell_type": "code",
   "execution_count": null,
   "id": "20c69043",
   "metadata": {},
   "outputs": [],
   "source": [
    "import os\n",
    "from dotenv import load_dotenv\n",
    "from crewai import Agent, Task, Crew, Process, LLM\n",
    "from crewai_tools import SerperDevTool\n",
    "\n",
    "# Load environment variables from .env file\n",
    "load_dotenv()\n",
    "\n",
    "# Verify API keys are loaded (optional - remove in production)\n",
    "print(\"✓ GEMINI_API_KEY loaded:\", \"Yes\" if os.getenv(\"GEMINI_API_KEY\") else \"No\")\n",
    "print(\"✓ SERPER_API_KEY loaded:\", \"Yes\" if os.getenv(\"SERPER_API_KEY\") else \"No\")\n"
   ]
  },
  {
   "cell_type": "markdown",
   "id": "6e22065e",
   "metadata": {},
   "source": [
    "## Step 3: Initialize Gemini LLM\n",
    "\n",
    "This cell configures the Google Gemini LLM with:\n",
    "1. Model: gemini-2.0-flash-exp\n",
    "2. Temperature: 0.1 (for more focused and deterministic responses)\n",
    "3. API key loaded from environment variables\n",
    "4. Verbose mode disabled for cleaner output"
   ]
  },
  {
   "cell_type": "code",
   "execution_count": null,
   "id": "55535f0b",
   "metadata": {},
   "outputs": [],
   "source": [
    "# Initialize Gemini LLM using environment variable\n",
    "gemini_llm = LLM(\n",
    "    model='gemini/gemini-2.0-flash-exp',\n",
    "    api_key=os.getenv(\"GEMINI_API_KEY\"),\n",
    "    temperature=0.1,\n",
    "    verbose=False\n",
    ")\n",
    "\n",
    "print(\"✓ Gemini LLM initialized successfully!\")\n"
   ]
  },
  {
   "cell_type": "markdown",
   "id": "6ace10b5",
   "metadata": {},
   "source": [
    "## Step 4: Initialize Search Tool\n",
    "\n",
    "This cell sets up the SerperDevTool, which provides web search capabilities:\n",
    "1. Configures to return 10 search results per query\n",
    "2. Sets the search region to India (in)\n",
    "3. Sets English as the search language\n",
    "4. Uses the SERPER_API_KEY from environment variables"
   ]
  },
  {
   "cell_type": "code",
   "execution_count": null,
   "id": "f1ba6de5",
   "metadata": {},
   "outputs": [],
   "source": [
    "# Initialize SerperDevTool - API key automatically loaded from environment\n",
    "search_tool = SerperDevTool(\n",
    "    n_results=10,\n",
    "    country=\"in\",\n",
    "    locale=\"en\"\n",
    ")\n",
    "\n",
    "print(\"✓ SerperDevTool initialized successfully!\")\n"
   ]
  },
  {
   "cell_type": "markdown",
   "id": "9de07f7c",
   "metadata": {},
   "source": [
    "## Step 5: Create AI Agents\n",
    "\n",
    "This cell defines two specialized AI agents:\n",
    "\n",
    "1. **Researcher Agent**\n",
    "   - Role: Web Research Specialist\n",
    "   - Purpose: Searches for recent stories on the specified topic\n",
    "   - Tools: Uses SerperDevTool for web searches\n",
    "   - Configuration: Uses Gemini LLM with verbose output\n",
    "\n",
    "2. **Summarizer Agent**\n",
    "   - Role: Content Summarizer\n",
    "   - Purpose: Creates concise summaries of the research findings\n",
    "   - Tools: Uses only the Gemini LLM\n",
    "   - Configuration: Verbose output enabled for monitoring progress"
   ]
  },
  {
   "cell_type": "code",
   "execution_count": null,
   "id": "16843ad2",
   "metadata": {},
   "outputs": [],
   "source": [
    "# Define the topic to research\n",
    "topic = \"latest AI breakthroughs\"  # Change this to your desired topic\n",
    "\n",
    "# Create researcher agent\n",
    "researcher = Agent(\n",
    "    role=\"Web Research Specialist\",\n",
    "    goal=f\"Search for the top 5 most recent and relevant stories about {topic}\",\n",
    "    backstory=\"Expert at finding the latest news and developments on any topic using advanced search tools\",\n",
    "    tools=[search_tool],\n",
    "    llm=gemini_llm,\n",
    "    verbose=True,\n",
    "    allow_delegation=False\n",
    ")\n",
    "\n",
    "# Create summarizer agent\n",
    "summarizer = Agent(\n",
    "    role=\"Content Summarizer\",\n",
    "    goal=\"Create concise, well-structured summaries of research findings\",\n",
    "    backstory=\"Specialist in distilling complex information into clear, engaging summaries\",\n",
    "    llm=gemini_llm,\n",
    "    verbose=True,\n",
    "    allow_delegation=False\n",
    ")\n",
    "\n",
    "print(\"✓ Agents created successfully!\")\n"
   ]
  },
  {
   "cell_type": "markdown",
   "id": "249341b8",
   "metadata": {},
   "source": [
    "## Step 6: Define Tasks\n",
    "\n",
    "This cell creates two sequential tasks:\n",
    "\n",
    "1. **Research Task**\n",
    "   - Assigned to: Researcher Agent\n",
    "   - Purpose: Search for top 5 recent stories about the topic\n",
    "   - Required Information:\n",
    "     - Title\n",
    "     - Source\n",
    "     - Key points\n",
    "     - Publication date\n",
    "\n",
    "2. **Summary Task**\n",
    "   - Assigned to: Summarizer Agent\n",
    "   - Purpose: Create markdown-formatted summaries\n",
    "   - Output Format: Numbered list with clear sections\n",
    "   - Context: Uses the output from the research task"
   ]
  },
  {
   "cell_type": "code",
   "execution_count": null,
   "id": "d886f3d0",
   "metadata": {},
   "outputs": [],
   "source": [
    "# Research task\n",
    "research_task = Task(\n",
    "    description=f\"\"\"Search the web for the top 5 most recent stories about '{topic}'.\n",
    "    For each story, collect:\n",
    "    - Title\n",
    "    - Source\n",
    "    - Key points\n",
    "    - Publication date (if available)\n",
    "    \n",
    "    Focus on the most recent and credible sources.\"\"\",\n",
    "    expected_output=\"A structured list of the top 5 stories with all relevant details\",\n",
    "    agent=researcher\n",
    ")\n",
    "\n",
    "# Summarization task\n",
    "summary_task = Task(\n",
    "    description=\"\"\"Create a well-formatted markdown summary of the top 5 stories.\n",
    "    For each story, provide:\n",
    "    - A clear headline\n",
    "    - A concise 2-3 sentence summary highlighting the key insights\n",
    "    - The source\n",
    "    \n",
    "    Format the output as a numbered list with clear sections.\"\"\",\n",
    "    expected_output=\"A markdown-formatted summary with 5 well-organized story summaries\",\n",
    "    agent=summarizer,\n",
    "    context=[research_task]\n",
    ")\n",
    "\n",
    "print(\"✓ Tasks defined successfully!\")\n"
   ]
  },
  {
   "cell_type": "markdown",
   "id": "cdfcb8b5",
   "metadata": {},
   "source": [
    "## Step 7: Create and Execute Crew\n",
    "\n",
    "This cell:\n",
    "1. Creates a Crew object that coordinates both agents\n",
    "2. Configures sequential processing (research first, then summarization)\n",
    "3. Enables verbose mode for detailed progress tracking\n",
    "4. Executes the crew with the specified topic\n",
    "5. Stores the final result for display"
   ]
  },
  {
   "cell_type": "code",
   "execution_count": null,
   "id": "1c111a05",
   "metadata": {},
   "outputs": [],
   "source": [
    "# Create the crew\n",
    "crew = Crew(\n",
    "    agents=[researcher, summarizer],\n",
    "    tasks=[research_task, summary_task],\n",
    "    process=Process.sequential,\n",
    "    verbose=True\n",
    ")\n",
    "\n",
    "# Execute the crew\n",
    "print(f\"\\n{'='*60}\")\n",
    "print(f\"Starting research on: {topic}\")\n",
    "print(f\"{'='*60}\\n\")\n",
    "\n",
    "result = crew.kickoff(inputs={'topic': topic})\n"
   ]
  },
  {
   "cell_type": "markdown",
   "id": "dd737fce",
   "metadata": {},
   "source": [
    "## Step 8: Display Results\n",
    "\n",
    "This final cell:\n",
    "1. Imports IPython display utilities\n",
    "2. Prints a formatted section header\n",
    "3. Displays the markdown-formatted results using IPython's display function"
   ]
  },
  {
   "cell_type": "code",
   "execution_count": null,
   "id": "2bf44ae7",
   "metadata": {},
   "outputs": [],
   "source": [
    "from IPython.display import Markdown, display\n",
    "\n",
    "print(\"\\n\" + \"=\"*60)\n",
    "print(\"FINAL SUMMARY\")\n",
    "print(\"=\"*60 + \"\\n\")\n",
    "\n",
    "display(Markdown(str(result)))\n"
   ]
  }
 ],
 "metadata": {
  "kernelspec": {
   "display_name": "base",
   "language": "python",
   "name": "python3"
  },
  "language_info": {
   "codemirror_mode": {
    "name": "ipython",
    "version": 3
   },
   "file_extension": ".py",
   "mimetype": "text/x-python",
   "name": "python",
   "nbconvert_exporter": "python",
   "pygments_lexer": "ipython3",
   "version": "3.10.18"
  }
 },
 "nbformat": 4,
 "nbformat_minor": 5
}
